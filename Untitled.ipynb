{
 "cells": [
  {
   "cell_type": "code",
   "execution_count": 7,
   "id": "3078f6a8",
   "metadata": {},
   "outputs": [
    {
     "data": {
      "text/plain": [
       "['train2017']"
      ]
     },
     "execution_count": 7,
     "metadata": {},
     "output_type": "execute_result"
    }
   ],
   "source": [
    "import os\n",
    "os.listdir('/dataset/train2017')"
   ]
  },
  {
   "cell_type": "code",
   "execution_count": 2,
   "id": "7e0c850a",
   "metadata": {},
   "outputs": [],
   "source": [
    "%run tools/train.py -b 8"
   ]
  },
  {
   "cell_type": "code",
   "execution_count": null,
   "id": "ac569fab",
   "metadata": {},
   "outputs": [],
   "source": [
    "os.listdir('/dataset/train2017')"
   ]
  },
  {
   "cell_type": "code",
   "execution_count": 16,
   "id": "0716d220",
   "metadata": {},
   "outputs": [
    {
     "data": {
      "text/plain": [
       "False"
      ]
     },
     "execution_count": 16,
     "metadata": {},
     "output_type": "execute_result"
    }
   ],
   "source": [
    "os.path.exists('/dataset/train2017/tarin2017/000000421131.jpg')"
   ]
  },
  {
   "cell_type": "code",
   "execution_count": 17,
   "id": "83874941",
   "metadata": {},
   "outputs": [],
   "source": [
    "a = os.listdir('/dataset/train2017/train2017')"
   ]
  },
  {
   "cell_type": "code",
   "execution_count": 18,
   "id": "06a97c06",
   "metadata": {},
   "outputs": [
    {
     "data": {
      "text/plain": [
       "False"
      ]
     },
     "execution_count": 18,
     "metadata": {},
     "output_type": "execute_result"
    }
   ],
   "source": [
    "os.path.exists(r'/dataset/train2017/tarin2017/000000421131.jpg')"
   ]
  },
  {
   "cell_type": "code",
   "execution_count": 5,
   "id": "1ba9fef8",
   "metadata": {},
   "outputs": [
    {
     "data": {
      "text/plain": [
       "['annotations_trainval2017', 'train2017']"
      ]
     },
     "execution_count": 5,
     "metadata": {},
     "output_type": "execute_result"
    }
   ],
   "source": [
    "os.listdir('/dataset/')"
   ]
  },
  {
   "cell_type": "code",
   "execution_count": 7,
   "id": "3920c7fb",
   "metadata": {},
   "outputs": [],
   "source": [
    "a.sort()"
   ]
  },
  {
   "cell_type": "code",
   "execution_count": 8,
   "id": "dabea246",
   "metadata": {},
   "outputs": [
    {
     "data": {
      "text/plain": [
       "'000000000009.jpg'"
      ]
     },
     "execution_count": 8,
     "metadata": {},
     "output_type": "execute_result"
    }
   ],
   "source": [
    "a[0]"
   ]
  },
  {
   "cell_type": "code",
   "execution_count": 10,
   "id": "67c37358",
   "metadata": {},
   "outputs": [
    {
     "data": {
      "text/plain": [
       "False"
      ]
     },
     "execution_count": 10,
     "metadata": {},
     "output_type": "execute_result"
    }
   ],
   "source": [
    "os.path.exists('/dataset/train2017/tarin2017/000000421131.jpg')"
   ]
  },
  {
   "cell_type": "code",
   "execution_count": 11,
   "id": "1a092b55",
   "metadata": {},
   "outputs": [
    {
     "data": {
      "text/plain": [
       "True"
      ]
     },
     "execution_count": 11,
     "metadata": {},
     "output_type": "execute_result"
    }
   ],
   "source": [
    "'000000421131.jpg' in a\n"
   ]
  },
  {
   "cell_type": "code",
   "execution_count": 4,
   "id": "a2060058",
   "metadata": {},
   "outputs": [
    {
     "data": {
      "text/plain": [
       "1"
      ]
     },
     "execution_count": 4,
     "metadata": {},
     "output_type": "execute_result"
    }
   ],
   "source": [
    "import torch\n",
    "torch.cuda.device_count()"
   ]
  },
  {
   "cell_type": "code",
   "execution_count": 5,
   "id": "2086065b",
   "metadata": {},
   "outputs": [
    {
     "data": {
      "text/plain": [
       "'Tesla T4'"
      ]
     },
     "execution_count": 5,
     "metadata": {},
     "output_type": "execute_result"
    }
   ],
   "source": [
    "torch.cuda.get_device_name(0)"
   ]
  },
  {
   "cell_type": "code",
   "execution_count": null,
   "id": "ed7a8829",
   "metadata": {},
   "outputs": [],
   "source": []
  }
 ],
 "metadata": {
  "kernelspec": {
   "display_name": "Python 3 (ipykernel)",
   "language": "python",
   "name": "python3"
  },
  "language_info": {
   "codemirror_mode": {
    "name": "ipython",
    "version": 3
   },
   "file_extension": ".py",
   "mimetype": "text/x-python",
   "name": "python",
   "nbconvert_exporter": "python",
   "pygments_lexer": "ipython3",
   "version": "3.7.11"
  }
 },
 "nbformat": 4,
 "nbformat_minor": 5
}
